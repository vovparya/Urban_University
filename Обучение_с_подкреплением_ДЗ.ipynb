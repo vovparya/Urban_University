{
  "nbformat": 4,
  "nbformat_minor": 0,
  "metadata": {
    "colab": {
      "provenance": [],
      "include_colab_link": true
    },
    "kernelspec": {
      "name": "python3",
      "display_name": "Python 3"
    },
    "language_info": {
      "name": "python"
    }
  },
  "cells": [
    {
      "cell_type": "markdown",
      "metadata": {
        "id": "view-in-github",
        "colab_type": "text"
      },
      "source": [
        "<a href=\"https://colab.research.google.com/github/vovparya/Urban_University/blob/master/%D0%9E%D0%B1%D1%83%D1%87%D0%B5%D0%BD%D0%B8%D0%B5_%D1%81_%D0%BF%D0%BE%D0%B4%D0%BA%D1%80%D0%B5%D0%BF%D0%BB%D0%B5%D0%BD%D0%B8%D0%B5%D0%BC_%D0%94%D0%97.ipynb\" target=\"_parent\"><img src=\"https://colab.research.google.com/assets/colab-badge.svg\" alt=\"Open In Colab\"/></a>"
      ]
    },
    {
      "cell_type": "markdown",
      "source": [
        "#### Цель задания:\n",
        "Познакомиться с основами обучения с подкреплением (Reinforcement Learning, RL), понять основные концепции и применить их на практике, используя простой алгоритм Q-Learning для решения задачи.\n",
        "\n",
        "#### Задание:\n",
        "\n",
        "1. **Теоретическая часть:**\n",
        "    - Прочитайте материалы о концепциях обучения с подкреплением: агент, среда, действия, награды, состояния, политика, функция ценности и функция награды.\n",
        "    - Напишите краткое эссе (1-2 страницы) о том, как обучение с подкреплением отличается от других видов обучения (например, обучение с учителем и обучение без учителя).\n",
        "\n",
        "2. **Практическая часть:**\n",
        "    - Реализуйте алгоритм Q-Learning для решения задачи \"Замкнутый лабиринт\" (Gridworld).\n",
        "    - Визуализируйте политику и функцию ценности, найденные вашим агентом.\n",
        "\n",
        "3. **Дополнительные задания (для продвинутых студентов):**\n",
        "    - Реализуйте алгоритм SARSA и сравните его результаты с Q-Learning на той же задаче.\n",
        "    - Изучите и реализуйте epsilon-greedy стратегию для выбора действий.\n",
        "\n",
        "**Все результаты выполнения работы поместите в один блокнот Colab, сохраните, расшарьте для просмотра и направьте преподавателю на проверку.**\n",
        "\n",
        "\n",
        "#### Подробное описание заданий 2 и 3:\n",
        "\n",
        "2. **Практическая часть:**\n",
        "\n",
        "    **Часть 1: Реализация Q-Learning**\n",
        "    - Создайте среду \"Gridworld\" размером 5x5. Ваша задача — найти путь от стартовой клетки (в левом верхнем углу) до целевой клетки (в правом нижнем углу), избегая препятствий.\n",
        "    - Используйте следующую формулу обновления Q-значений:\n",
        "\n",
        "$\n",
        "Q(s, a) \\leftarrow Q(s, a) + \\alpha [r + \\gamma \\max_{a'} Q(s', a') - Q(s, a)]\n",
        "$\n",
        "\n",
        "      где:\n",
        "- $ s $ — текущее состояние,\n",
        "- $ a $ — текущее действие,\n",
        "- $ r $ — награда,\n",
        "- $ s' $ — новое состояние,\n",
        "- $ \\alpha $ — скорость обучения (learning rate),\n",
        "- 4 \\gamma $ — коэффициент дисконтирования (discount factor).\n",
        "\n",
        "    **Пример кода для начала:**\n",
        "\n",
        "    ```python\n",
        "    import numpy as np\n",
        "\n",
        "    # Параметры\n",
        "    alpha = 0.1\n",
        "    gamma = 0.9\n",
        "    epsilon = 0.1\n",
        "    episodes = 1000\n",
        "    grid_size = 5\n",
        "\n",
        "    # Инициализация Q-таблицы\n",
        "    Q = np.zeros((grid_size, grid_size, 4))\n",
        "\n",
        "    # Функции для выбора действий и обновления Q-таблицы\n",
        "    def choose_action(state):\n",
        "        if np.random.rand() < epsilon:\n",
        "            return np.random.randint(4)\n",
        "        else:\n",
        "            return np.argmax(Q[state])\n",
        "\n",
        "    def update_q(state, action, reward, next_state):\n",
        "        best_next_action = np.argmax(Q[next_state])\n",
        "        td_target = reward + gamma * Q[next_state][best_next_action]\n",
        "        td_error = td_target - Q[state][action]\n",
        "        Q[state][action] += alpha * td_error\n",
        "\n",
        "    # Обучение агента\n",
        "    for episode in range(episodes):\n",
        "        state = (0, 0)\n",
        "        done = False\n",
        "        while not done:\n",
        "            action = choose_action(state)\n",
        "            next_state, reward, done = step(state, action)\n",
        "            update_q(state, action, reward, next_state)\n",
        "            state = next_state\n",
        "\n",
        "    # Визуализация политики\n",
        "    policy = np.argmax(Q, axis=2)\n",
        "    print(\"Оптимальная политика:\")\n",
        "    print(policy)\n",
        "    ```\n",
        "\n",
        "    **Часть 2: Визуализация политики и функции ценности**\n",
        "    - Визуализируйте оптимальную политику и функцию ценности после обучения.\n",
        "    - Объясните результаты и проанализируйте, как агент принимает решения в разных состояниях.\n",
        "\n",
        "3. **Дополнительные задания:**\n",
        "    - Реализуйте алгоритм SARSA и сравните его с Q-Learning.\n",
        "    - Внедрите epsilon-greedy стратегию для выбора действий и проанализируйте ее влияние на обучение.\n",
        "\n",
        "#### Критерии оценки:\n",
        "\n",
        "- Понимание теоретических концепций обучения с подкреплением.\n",
        "- Корректность реализации алгоритма Q-Learning.\n",
        "- Качество визуализации и анализ результатов.\n",
        "- Выполнение дополнительных заданий (если применимо).\n"
      ],
      "metadata": {
        "id": "f6rx49dHB8v7"
      }
    },
    {
      "cell_type": "markdown",
      "source": [
        "#Примеры кода\n"
      ],
      "metadata": {
        "id": "TH4ssee0DMDw"
      }
    },
    {
      "cell_type": "markdown",
      "source": [
        "**Политика:** Оптимальная политика показывает действия, которые агент предпочитает в каждом состоянии, чтобы максимизировать награду.\n",
        "\n",
        "------------\n",
        "**Функция ценности:** Функция ценности показывает ожидаемую накопленную награду для каждого состояния."
      ],
      "metadata": {
        "id": "SFZpHhjPDE9y"
      }
    },
    {
      "cell_type": "markdown",
      "source": [
        "Реализация Q-Learning"
      ],
      "metadata": {
        "id": "k5RDfFj7DmJs"
      }
    },
    {
      "cell_type": "code",
      "execution_count": null,
      "metadata": {
        "colab": {
          "base_uri": "https://localhost:8080/"
        },
        "id": "Eht4203pB4GR",
        "outputId": "311722b5-a7c3-41e4-f16f-d983cd1fe227"
      },
      "outputs": [
        {
          "output_type": "stream",
          "name": "stdout",
          "text": [
            "Оптимальная политика:\n",
            "[[3 3 1 1 1]\n",
            " [3 3 1 1 1]\n",
            " [3 3 3 3 1]\n",
            " [1 3 3 3 1]\n",
            " [0 3 3 3 0]]\n"
          ]
        }
      ],
      "source": [
        "import numpy as np\n",
        "\n",
        "# Параметры\n",
        "alpha = 0.1\n",
        "gamma = 0.9\n",
        "epsilon = 0.1\n",
        "episodes = 1000\n",
        "grid_size = 5\n",
        "\n",
        "# Действия: вверх, вниз, влево, вправо\n",
        "actions = [(-1, 0), (1, 0), (0, -1), (0, 1)]\n",
        "\n",
        "# Инициализация Q-таблицы\n",
        "Q = np.zeros((grid_size, grid_size, len(actions)))\n",
        "\n",
        "# Функции для выбора действий и обновления Q-таблицы\n",
        "def choose_action(state):\n",
        "    if np.random.rand() < epsilon:\n",
        "        return np.random.randint(len(actions))\n",
        "    else:\n",
        "        return np.argmax(Q[state])\n",
        "\n",
        "def step(state, action):\n",
        "    next_state = (state[0] + actions[action][0], state[1] + actions[action][1])\n",
        "    if next_state[0] < 0 or next_state[0] >= grid_size or next_state[1] < 0 or next_state[1] >= grid_size:\n",
        "        next_state = state  # оставаться на месте, если выходит за пределы\n",
        "    reward = 1 if next_state == (grid_size-1, grid_size-1) else -0.1\n",
        "    done = next_state == (grid_size-1, grid_size-1)\n",
        "    return next_state, reward, done\n",
        "\n",
        "def update_q(state, action, reward, next_state):\n",
        "    best_next_action = np.argmax(Q[next_state])\n",
        "    td_target = reward + gamma * Q[next_state][best_next_action]\n",
        "    td_error = td_target - Q[state][action]\n",
        "    Q[state][action] += alpha * td_error\n",
        "\n",
        "# Обучение агента\n",
        "for episode in range(episodes):\n",
        "    state = (0, 0)\n",
        "    done = False\n",
        "    while not done:\n",
        "        action = choose_action(state)\n",
        "        next_state, reward, done = step(state, action)\n",
        "        update_q(state, action, reward, next_state)\n",
        "        state = next_state\n",
        "\n",
        "# Визуализация политики\n",
        "policy = np.argmax(Q, axis=2)\n",
        "print(\"Оптимальная политика:\")\n",
        "print(policy)\n"
      ]
    },
    {
      "cell_type": "markdown",
      "source": [
        "Визуализация политики и функции ценности"
      ],
      "metadata": {
        "id": "zOmLGt5dDjKC"
      }
    },
    {
      "cell_type": "code",
      "source": [
        "import matplotlib.pyplot as plt\n",
        "\n",
        "# Функция ценности\n",
        "value_function = np.max(Q, axis=2)\n",
        "\n",
        "plt.figure(figsize=(10, 6))\n",
        "\n",
        "# Политика\n",
        "plt.subplot(1, 2, 1)\n",
        "plt.title('Политика')\n",
        "plt.imshow(policy, cmap='viridis', origin='upper')\n",
        "for i in range(grid_size):\n",
        "    for j in range(grid_size):\n",
        "        plt.text(j, i, policy[i, j], ha='center', va='center', color='white')\n",
        "\n",
        "# Функция ценности\n",
        "plt.subplot(1, 2, 2)\n",
        "plt.title('Функция ценности')\n",
        "plt.imshow(value_function, cmap='viridis', origin='upper')\n",
        "for i in range(grid_size):\n",
        "    for j in range(grid_size):\n",
        "        plt.text(j, i, round(value_function[i, j], 2), ha='center', va='center', color='white')\n",
        "\n",
        "plt.show()\n"
      ],
      "metadata": {
        "colab": {
          "base_uri": "https://localhost:8080/",
          "height": 435
        },
        "id": "_FsfNv3oC5Mq",
        "outputId": "86c3196d-cafc-446c-8260-08592a54d3c4"
      },
      "execution_count": null,
      "outputs": [
        {
          "output_type": "display_data",
          "data": {
            "text/plain": [
              "<Figure size 1000x600 with 2 Axes>"
            ],
            "image/png": "[encoded data removed]"
          },
          "metadata": {}
        }
      ]
    },
    {
      "cell_type": "markdown",
      "source": [
        "Реализация SARSA"
      ],
      "metadata": {
        "id": "VrqSSTOYDgPC"
      }
    },
    {
      "cell_type": "code",
      "source": [
        "def update_sarsa_q(state, action, reward, next_state, next_action):\n",
        "    td_target = reward + gamma * Q[next_state][next_action]\n",
        "    td_error = td_target - Q[state][action]\n",
        "    Q[state][action] += alpha * td_error\n",
        "\n",
        "# Обучение агента с использованием SARSA\n",
        "Q = np.zeros((grid_size, grid_size, len(actions)))\n",
        "for episode in range(episodes):\n",
        "    state = (0, 0)\n",
        "    action = choose_action(state)\n",
        "    done = False\n",
        "    while not done:\n",
        "        next_state, reward, done = step(state, action)\n",
        "        next_action = choose_action(next_state)\n",
        "        update_sarsa_q(state, action, reward, next_state, next_action)\n",
        "        state, action = next_state, next_action\n",
        "\n",
        "policy_sarsa = np.argmax(Q, axis=2)\n",
        "print(\"Оптимальная политика (SARSA):\")\n",
        "print(policy_sarsa)\n"
      ],
      "metadata": {
        "colab": {
          "base_uri": "https://localhost:8080/"
        },
        "id": "TtU0byrVDXCT",
        "outputId": "9242be8e-8b4d-47fd-89b6-3ce769f06cfc"
      },
      "execution_count": null,
      "outputs": [
        {
          "output_type": "stream",
          "name": "stdout",
          "text": [
            "Оптимальная политика (SARSA):\n",
            "[[3 1 1 1 1]\n",
            " [3 3 1 3 1]\n",
            " [1 3 1 1 1]\n",
            " [3 3 1 3 1]\n",
            " [3 3 3 3 0]]\n"
          ]
        }
      ]
    },
    {
      "cell_type": "markdown",
      "source": [
        "Реализация epsilon-greedy стратегии"
      ],
      "metadata": {
        "id": "ot1zfA8XDd5C"
      }
    },
    {
      "cell_type": "code",
      "source": [
        "def update_sarsa_q(state, action, reward, next_state, next_action):\n",
        "    td_target = reward + gamma * Q[next_state][next_action]\n",
        "    td_error = td_target - Q[state][action]\n",
        "    Q[state][action] += alpha * td_error\n",
        "\n",
        "# Обучение агента с использованием SARSA\n",
        "Q = np.zeros((grid_size, grid_size, len(actions)))\n",
        "for episode in range(episodes):\n",
        "    state = (0, 0)\n",
        "    action = choose_action(state)\n",
        "    done = False\n",
        "    while not done:\n",
        "        next_state, reward, done = step(state, action)\n",
        "        next_action = choose_action(next_state)\n",
        "        update_sarsa_q(state, action, reward, next_state, next_action)\n",
        "        state, action = next_state, next_action\n",
        "\n",
        "policy_sarsa = np.argmax(Q, axis=2)\n",
        "print(\"Оптимальная политика (SARSA):\")\n",
        "print(policy_sarsa)\n"
      ],
      "metadata": {
        "colab": {
          "base_uri": "https://localhost:8080/"
        },
        "id": "xd_xmKa8DZ8Z",
        "outputId": "da17b046-8d69-44ad-ae4c-bcf176d13dfd"
      },
      "execution_count": null,
      "outputs": [
        {
          "output_type": "stream",
          "name": "stdout",
          "text": [
            "Оптимальная политика (SARSA):\n",
            "[[3 1 1 1 1]\n",
            " [3 3 1 1 1]\n",
            " [3 1 1 1 1]\n",
            " [3 3 3 1 1]\n",
            " [3 3 3 3 0]]\n"
          ]
        }
      ]
    },
    {
      "cell_type": "markdown",
      "source": [],
      "metadata": {
        "id": "opVlM9DAC4zV"
      }
    }
  ]
}