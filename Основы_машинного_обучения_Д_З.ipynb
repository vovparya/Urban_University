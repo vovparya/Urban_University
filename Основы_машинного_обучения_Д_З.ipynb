{
  "nbformat": 4,
  "nbformat_minor": 0,
  "metadata": {
    "colab": {
      "provenance": [],
      "include_colab_link": true
    },
    "kernelspec": {
      "name": "python3",
      "display_name": "Python 3"
    },
    "language_info": {
      "name": "python"
    }
  },
  "cells": [
    {
      "cell_type": "markdown",
      "metadata": {
        "id": "view-in-github",
        "colab_type": "text"
      },
      "source": [
        "<a href=\"https://colab.research.google.com/github/vovparya/Urban_University/blob/master/%D0%9E%D1%81%D0%BD%D0%BE%D0%B2%D1%8B_%D0%BC%D0%B0%D1%88%D0%B8%D0%BD%D0%BD%D0%BE%D0%B3%D0%BE_%D0%BE%D0%B1%D1%83%D1%87%D0%B5%D0%BD%D0%B8%D1%8F_%D0%94_%D0%97.ipynb\" target=\"_parent\"><img src=\"https://colab.research.google.com/assets/colab-badge.svg\" alt=\"Open In Colab\"/></a>"
      ]
    },
    {
      "cell_type": "markdown",
      "source": [
        "#Домашнее задание по теме \"Основы машинного обучения\""
      ],
      "metadata": {
        "id": "UJkhiX_WCfIi"
      }
    },
    {
      "cell_type": "markdown",
      "source": [
        "Используйте блокнот \"Подготовка данных\": https://colab.research.google.com/drive/16jdLvrc8UBOJeVTh0vJtfa7mmCw4XeP1?usp=sharing\n",
        "\n",
        "- Сделайте копию блокнота на свой диск.\n",
        "- Изучите весь теоритический материал и выполните весь код.\n",
        "- Сохраните результаты.\n",
        "- Расшарьте блокнот и пришлите ссылку на проверку преподавателю."
      ],
      "metadata": {
        "id": "zrhggOBeCwl6"
      }
    },
    {
      "cell_type": "code",
      "execution_count": null,
      "metadata": {
        "id": "v3IWbUgdCVQg"
      },
      "outputs": [],
      "source": []
    }
  ]
}